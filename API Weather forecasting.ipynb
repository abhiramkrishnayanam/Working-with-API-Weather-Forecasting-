{
 "cells": [
  {
   "cell_type": "markdown",
   "id": "6add04a6-ec46-4dd4-af54-10ce656b7396",
   "metadata": {},
   "source": [
    "# Weather Forecasting \n",
    "## (Using API)"
   ]
  },
  {
   "cell_type": "code",
   "execution_count": 26,
   "id": "62c9fac7-b710-45e8-b255-a2e67719f324",
   "metadata": {},
   "outputs": [],
   "source": [
    "import requests, json"
   ]
  },
  {
   "cell_type": "code",
   "execution_count": 43,
   "id": "4023fc99-de37-4e0c-a858-a127c17fcc05",
   "metadata": {},
   "outputs": [
    {
     "name": "stdin",
     "output_type": "stream",
     "text": [
      "Enter the city Thrissur\n"
     ]
    },
    {
     "name": "stdout",
     "output_type": "stream",
     "text": [
      "The weather in Thrissur is: Clouds\n",
      "The temperature in Thrissur is: 31ºc\n"
     ]
    }
   ],
   "source": [
    "apikey='43464d16a0703c5d618c358c158b1e10'\n",
    "\n",
    "user_input=input(\"Enter the city\")\n",
    "weather_data = requests.get(\n",
    "    f\"https://api.openweathermap.org/data/2.5/weather?q={user_input}&units=imperial&APPID={apikey}\")\n",
    "# print(weather_data.status_code)\n",
    "if weather_data.json()['cod'] == '404':\n",
    "    print(\"No City Found\")\n",
    "else:\n",
    "    weather = weather_data.json()['weather'][0]['main']\n",
    "    temp = (weather_data.json()['main']['temp'])\n",
    "    celsius = round((temp - 32) / 1.8)\n",
    "    print(f\"The weather in {user_input} is: {weather}\")\n",
    "    print(f\"The temperature in {user_input} is: {celsius}ºc\")\n"
   ]
  },
  {
   "cell_type": "code",
   "execution_count": null,
   "id": "7697a2ff-b7ba-46bb-a5c8-3ed641184a2a",
   "metadata": {},
   "outputs": [],
   "source": []
  }
 ],
 "metadata": {
  "kernelspec": {
   "display_name": "Python 3 (ipykernel)",
   "language": "python",
   "name": "python3"
  },
  "language_info": {
   "codemirror_mode": {
    "name": "ipython",
    "version": 3
   },
   "file_extension": ".py",
   "mimetype": "text/x-python",
   "name": "python",
   "nbconvert_exporter": "python",
   "pygments_lexer": "ipython3",
   "version": "3.11.5"
  }
 },
 "nbformat": 4,
 "nbformat_minor": 5
}
